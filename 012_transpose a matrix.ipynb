{
 "cells": [
  {
   "cell_type": "markdown",
   "metadata": {},
   "source": [
    "# Python Program to Transpose a Matrix\n",
    "\n"
   ]
  },
  {
   "cell_type": "markdown",
   "metadata": {},
   "source": [
    "In Python, we can implement a matrix as a nested list (list inside a list). We can treat each element as a row of the matrix.\n",
    "\n",
    "For example **`X = [[1, 2], [4, 5], [3, 6]]`** would represent a 3x2 matrix. The first row can be selected as **`X[0]`**. And, the element in the first-row first column can be selected as **`X[0][0]`**.\n",
    "\n",
    "Transpose of a matrix is the interchanging of rows and columns. It is denoted as **`X'`**. The element at **`ith`** row and **`jth`** column in **`X`** will be placed at **`jth`** row and **`ith`** column in **`X'`**. So if **`X`** is a 3x2 matrix, **`X'`** will be a 2x3 matrix.\n",
    "\n",
    "Here are a couple of ways to accomplish this in Python."
   ]
  },
  {
   "cell_type": "code",
   "execution_count": 1,
   "metadata": {
    "ExecuteTime": {
     "end_time": "2021-07-27T13:46:30.147854Z",
     "start_time": "2021-07-27T13:46:30.106841Z"
    }
   },
   "outputs": [
    {
     "name": "stdout",
     "output_type": "stream",
     "text": [
      "[12, 7, 5]\n",
      "[9, 3, 6]\n"
     ]
    },
    {
     "data": {
      "text/plain": [
       "'\\n>>Output/Runtime Test Cases:\\n     \\n[12, 7, 5]\\n[9, 3, 6]\\n'"
      ]
     },
     "execution_count": 1,
     "metadata": {},
     "output_type": "execute_result"
    }
   ],
   "source": [
    "# Example 1: transpose a matrix using a nested loop\n",
    "\n",
    "X = [[12,9],\n",
    "    [7 ,3],\n",
    "    [5 ,6]]\n",
    "\n",
    "result = [[0,0,0],\n",
    "         [0,0,0]]\n",
    "\n",
    "# iterate through rows\n",
    "for i in range(len(X)):\n",
    "   # iterate through columns\n",
    "   for j in range(len(X[0])):\n",
    "        result[j][i] = X[i][j]\n",
    "\n",
    "for r in result:\n",
    "    print(r)\n",
    "\n",
    "'''\n",
    ">>Output/Runtime Test Cases:\n",
    "     \n",
    "[12, 7, 5]\n",
    "[9, 3, 6]\n",
    "'''"
   ]
  },
  {
   "cell_type": "markdown",
   "metadata": {},
   "source": [
    "**Explanation:**\n",
    "    \n",
    "In this program we have used nested **`for`** loops to iterate through each row and each column. At each point we place the **`X[i][j]`** element into **`result[j][i]`**."
   ]
  },
  {
   "cell_type": "code",
   "execution_count": 2,
   "metadata": {
    "ExecuteTime": {
     "end_time": "2021-07-27T13:46:30.284575Z",
     "start_time": "2021-07-27T13:46:30.150786Z"
    }
   },
   "outputs": [
    {
     "name": "stdout",
     "output_type": "stream",
     "text": [
      "[12, 7, 5]\n",
      "[9, 3, 6]\n"
     ]
    },
    {
     "data": {
      "text/plain": [
       "'\\n>>Output/Runtime Test Cases:\\n     \\n[12, 7, 5]\\n[9, 3, 6]\\n'"
      ]
     },
     "execution_count": 2,
     "metadata": {},
     "output_type": "execute_result"
    }
   ],
   "source": [
    "# Example 2: transpose a matrix using list comprehension\n",
    "\n",
    "X = [[12,9],\n",
    "    [7 ,3],\n",
    "    [5 ,6]]\n",
    "\n",
    "result = [[X[j][i] for j in range(len(X))] for i in range(len(X[0]))]\n",
    "\n",
    "for r in result:\n",
    "    print(r)\n",
    "    \n",
    "'''\n",
    ">>Output/Runtime Test Cases:\n",
    "     \n",
    "[12, 7, 5]\n",
    "[9, 3, 6]\n",
    "'''"
   ]
  },
  {
   "cell_type": "markdown",
   "metadata": {},
   "source": [
    "**Explanation:**\n",
    "    \n",
    "The output of this program is the same as above. We have used nested list comprehension to iterate through each element in the matrix."
   ]
  },
  {
   "cell_type": "code",
   "execution_count": null,
   "metadata": {},
   "outputs": [],
   "source": []
  }
 ],
 "metadata": {
  "hide_input": false,
  "kernelspec": {
   "display_name": "Python 3 (ipykernel)",
   "language": "python",
   "name": "python3"
  },
  "language_info": {
   "codemirror_mode": {
    "name": "ipython",
    "version": 3
   },
   "file_extension": ".py",
   "mimetype": "text/x-python",
   "name": "python",
   "nbconvert_exporter": "python",
   "pygments_lexer": "ipython3",
   "version": "3.9.7"
  },
  "toc": {
   "base_numbering": 1,
   "nav_menu": {},
   "number_sections": true,
   "sideBar": true,
   "skip_h1_title": false,
   "title_cell": "Table of Contents",
   "title_sidebar": "Contents",
   "toc_cell": false,
   "toc_position": {},
   "toc_section_display": true,
   "toc_window_display": false
  },
  "varInspector": {
   "cols": {
    "lenName": 16,
    "lenType": 16,
    "lenVar": 40
   },
   "kernels_config": {
    "python": {
     "delete_cmd_postfix": "",
     "delete_cmd_prefix": "del ",
     "library": "var_list.py",
     "varRefreshCmd": "print(var_dic_list())"
    },
    "r": {
     "delete_cmd_postfix": ") ",
     "delete_cmd_prefix": "rm(",
     "library": "var_list.r",
     "varRefreshCmd": "cat(var_dic_list()) "
    }
   },
   "types_to_exclude": [
    "module",
    "function",
    "builtin_function_or_method",
    "instance",
    "_Feature"
   ],
   "window_display": false
  }
 },
 "nbformat": 4,
 "nbformat_minor": 4
}
